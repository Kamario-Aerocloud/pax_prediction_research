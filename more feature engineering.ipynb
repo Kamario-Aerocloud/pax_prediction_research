{
 "cells": [
  {
   "cell_type": "markdown",
   "id": "c4750127-f726-4984-847f-eb40b60b483c",
   "metadata": {},
   "source": [
    "## Random forest for SRQ prediction with more feature engineering"
   ]
  },
  {
   "cell_type": "code",
   "execution_count": null,
   "id": "c1114581-51f3-4cc0-8d9a-19552e50ebae",
   "metadata": {},
   "outputs": [],
   "source": [
    "import pandas as pd\n",
    "import matplotlib.pyplot as plt\n",
    "import matplotlib.dates as mdates\n",
    "import seaborn as sns\n",
    "import sklearn\n",
    "import warnings\n",
    "import joblib\n",
    "import numpy as np\n",
    "\n",
    "from sklearn.preprocessing import LabelEncoder, StandardScaler\n",
    "from sklearn.model_selection import train_test_split, cross_val_score, GridSearchCV, RandomizedSearchCV, TimeSeriesSplit\n",
    "from sklearn.metrics import f1_score, mean_squared_error, r2_score, mean_absolute_error, accuracy_score\n",
    "from sklearn.ensemble import RandomForestRegressor\n",
    "\n",
    "warnings.filterwarnings('ignore')"
   ]
  },
  {
   "cell_type": "code",
   "execution_count": null,
   "id": "c940a1d2-b74c-4d3e-8bfc-cb69d41dc812",
   "metadata": {},
   "outputs": [],
   "source": [
    "df = pd.read_csv('Datasets/FlightsByDay-SRQ-2025_07_21_09_49_46.csv')\n",
    "df['Date'] = pd.to_datetime(df['Date'], errors='coerce')\n",
    "df.info()"
   ]
  },
  {
   "cell_type": "code",
   "execution_count": null,
   "id": "364f87b2-e1c3-4a9f-baac-654eebb26fd9",
   "metadata": {},
   "outputs": [],
   "source": [
    "plt.figure(figsize=(20,8))\n",
    "plt.plot(df['Date'], df['Boarded'], marker='o', linestyle='-')\n",
    "plt.title('Passenger Count Over Time')\n",
    "plt.xlabel('Date')\n",
    "plt.ylabel('Passenger Count')\n",
    "plt.grid(True)\n",
    "plt.tight_layout()\n",
    "plt.show()"
   ]
  },
  {
   "cell_type": "code",
   "execution_count": null,
   "id": "71077da0-3512-473f-be19-0601fcb117a5",
   "metadata": {},
   "outputs": [],
   "source": [
    "# Extract time-based features\n",
    "#df['Hour'] = df['Flight Time'].dt.hour\n",
    "df['Day_of_Week'] = df['Date'].dt.dayofweek  # 0=Monday, 6=Sunday\n",
    "df['Month'] = df['Date'].dt.month\n",
    "df['Day_of_Month'] = df['Date'].dt.day\n",
    "\n",
    "# Create time-based categories\n",
    "#df['Time_Category'] = pd.cut(df['Hour'], \n",
    "                           #bins=[0, 6, 12, 18, 24], \n",
    "                           #labels=['Night', 'Morning', 'Afternoon', 'Evening'])\n",
    "\n",
    "# Encode categorical variables\n",
    "label_encoders = {}\n",
    "categorical_columns = ['Destination Airport', 'Airline']\n",
    "\n",
    "for col in categorical_columns:\n",
    "    le = LabelEncoder()\n",
    "    df[col + '_encoded'] = le.fit_transform(df[col])\n",
    "    label_encoders[col] = le\n",
    "\n",
    "\n",
    "df"
   ]
  },
  {
   "cell_type": "markdown",
   "id": "ee1d44e1-9af2-4426-b498-e7be40513d8b",
   "metadata": {},
   "source": [
    "## Cyclical encoding of dates"
   ]
  },
  {
   "cell_type": "code",
   "execution_count": null,
   "id": "70dc4e4a-c218-43ee-a224-8bf678dfa9ce",
   "metadata": {},
   "outputs": [],
   "source": [
    "df['day_sin'] = np.sin(2*np.pi*df['Day_of_Month']/31)\n",
    "df['day_cos'] = np.cos(2*np.pi*df['Day_of_Month']/31)\n",
    "\n",
    "# Month (1–12) → convert to 0–11 by subtracting 1, then encode\n",
    "df['month_sin'] = np.sin(2 * np.pi * (df['Month'] - 1) / 12)\n",
    "df['month_cos'] = np.cos(2 * np.pi * (df['Month'] - 1) / 12)\n",
    "\n",
    "# Day of Week → if 0=Monday…6=Sunday, just divide by 7\n",
    "df['dow_sin'] = np.sin(2 * np.pi * df['Day_of_Week'] / 7)\n",
    "df['dow_cos'] = np.cos(2 * np.pi * df['Day_of_Week'] / 7)\n",
    "\n",
    "df.info()"
   ]
  },
  {
   "cell_type": "markdown",
   "id": "fff0f8e5-ee29-4fcd-8034-dc9dd3a51e7b",
   "metadata": {},
   "source": [
    "## group by airline and destination"
   ]
  },
  {
   "cell_type": "code",
   "execution_count": null,
   "id": "bd623177-d552-4e3f-ae10-5b58241d2011",
   "metadata": {},
   "outputs": [],
   "source": [
    "route_stats = df.groupby(['Airline','Destination Airport'])['Boarded'].agg([\n",
    "    ('route_mean','mean'),\n",
    "    ('route_median','median'),\n",
    "    ('route_std','std'),\n",
    "]).reset_index()\n",
    "df = df.merge(route_stats, on=['Airline','Destination Airport'], how='left')\n",
    "df"
   ]
  },
  {
   "cell_type": "code",
   "execution_count": null,
   "id": "cbcba3cd-0b49-45f8-b7dd-f8cc7635caf3",
   "metadata": {},
   "outputs": [],
   "source": [
    "# Select features for modeling\n",
    "feature_columns = [\n",
    "    'Destination Airport_encoded', \n",
    "    'Airline_encoded', 'Day_of_Week', 'Month', \n",
    "    'Day_of_Month', 'day_sin', 'day_cos', 'month_sin',\n",
    "    'month_cos', 'dow_sin', 'dow_cos', 'route_mean',\n",
    "    'route_median', 'route_std'\n",
    "]\n",
    "\n",
    "X = df[feature_columns]\n",
    "y = df['Boarded']\n",
    "\n",
    "print(\"Feature matrix shape:\", X.shape)\n",
    "print(\"Target shape:\", y.shape)"
   ]
  },
  {
   "cell_type": "code",
   "execution_count": null,
   "id": "0ee6d9fb-7cf6-4f35-b789-f7a0a7e0675d",
   "metadata": {},
   "outputs": [],
   "source": [
    "#Need to drop time stamps for modeling but need the timestamps to present data\n",
    "df_timestamps = df['Date']\n",
    "\n",
    "split_factor = 0.8\n",
    "split_index = int(len(df) * split_factor)\n",
    "\n",
    "train_df = df[:split_index]\n",
    "test_df = df[split_index:]\n",
    "\n",
    "# Split data into training and testing sets\n",
    "# X_train, X_test, y_train, y_test = train_test_split(\n",
    "#     X, y, test_size=0.2, stratify=None\n",
    "# )\n",
    "\n",
    "# Extract X and y from train and test sets\n",
    "X_train = train_df[feature_columns]\n",
    "y_train = train_df['Boarded']\n",
    "\n",
    "X_test = test_df[feature_columns]\n",
    "y_test = test_df['Boarded']\n",
    "\n",
    "\n",
    "print(f\"Training set size: {X_train.shape[0]}\")\n",
    "print(f\"Testing set size: {X_test.shape[0]}\")\n",
    "print(f\"Training target range: {y_train.min()} to {y_train.max()}\")\n",
    "print(f\"Testing target range: {y_test.min()} to {y_test.max()}\")"
   ]
  },
  {
   "cell_type": "code",
   "execution_count": null,
   "id": "faff8d79-e2c0-48c3-8fbf-1656f6f1913d",
   "metadata": {},
   "outputs": [],
   "source": [
    "plt.figure(figsize=(20,8))\n",
    "\n",
    "plt.plot(df_timestamps[:split_index], y_train, label='Train', color='blue')\n",
    "plt.plot(df_timestamps[split_index:], y_test, label='Test', color='orange')\n",
    "\n",
    "plt.title('Passenger Count Over Time (Train/Test Split)')\n",
    "plt.xlabel('Flight Time')\n",
    "plt.ylabel('Passenger Count')\n",
    "plt.legend()\n",
    "plt.grid(True)\n",
    "plt.tight_layout()\n",
    "plt.show()\n"
   ]
  },
  {
   "cell_type": "code",
   "execution_count": null,
   "id": "442f6674-36b7-4a76-8af4-0e90602e6cbf",
   "metadata": {},
   "outputs": [],
   "source": [
    "param_grid_random = {\n",
    "    'n_estimators': [100, 200, 300, 500],\n",
    "    'max_depth': [10, 20, 30, 40, 50, None],\n",
    "    'min_samples_split': [2, 5, 10, 15],\n",
    "    'min_samples_leaf': [1, 2, 4, 6],\n",
    "    'max_features': ['sqrt', 'log2', None],\n",
    "    'bootstrap': [True, False]\n",
    "}"
   ]
  },
  {
   "cell_type": "code",
   "execution_count": null,
   "id": "f445db3c-55b5-464a-bc21-6e120f4789fc",
   "metadata": {},
   "outputs": [],
   "source": [
    "rf = RandomForestRegressor()\n",
    "tscv= TimeSeriesSplit(3)"
   ]
  },
  {
   "cell_type": "code",
   "execution_count": null,
   "id": "642c545c-7c34-47ca-8c0c-5720414a3105",
   "metadata": {},
   "outputs": [],
   "source": [
    "print(\"Starting Randomized Search...\")\n",
    "random_search = RandomizedSearchCV(\n",
    "    estimator=rf,\n",
    "    param_distributions=param_grid_random,\n",
    "    n_iter=100,  # Number of parameter combinations to try\n",
    "    cv=tscv,\n",
    "    scoring='neg_mean_squared_error',  # Use 'neg_mean_squared_error' for regression\n",
    "    n_jobs=-1,\n",
    "    verbose=1,\n",
    "    random_state=42\n",
    ")"
   ]
  },
  {
   "cell_type": "code",
   "execution_count": null,
   "id": "9b30c2a3-ad01-4a23-a5a3-22c2e3571216",
   "metadata": {},
   "outputs": [],
   "source": [
    "random_search.fit(X_train, y_train)"
   ]
  },
  {
   "cell_type": "code",
   "execution_count": null,
   "id": "73545266-6294-454d-9f48-fc911be07142",
   "metadata": {},
   "outputs": [],
   "source": [
    "# Get the best model\n",
    "best_rf = random_search.best_estimator_\n",
    "print(f\"Best parameters: {random_search.best_params_}\")\n",
    "print(f\"Best cross-validation score: {random_search.best_score_:.4f}\")\n",
    "\n",
    "# Make predictions\n",
    "y_pred = best_rf.predict(X_test)"
   ]
  },
  {
   "cell_type": "code",
   "execution_count": null,
   "id": "0e9ff3e2-e97a-493c-b354-3b63d0a02042",
   "metadata": {},
   "outputs": [],
   "source": [
    "def predict_passengers(model, flight_time, dest_airport, airline,\n",
    "                       label_encoders, route_stats, feature_columns):\n",
    "    # 1) Build base DataFrame\n",
    "    sample = pd.DataFrame({'Flight Time': [flight_time]})\n",
    "    \n",
    "    # 2) Extract raw time features\n",
    "    dt = pd.to_datetime(sample['Flight Time'])\n",
    "    sample['Day_of_Month']  = dt.dt.day\n",
    "    sample['Month']         = dt.dt.month\n",
    "    sample['Day_of_Week']   = dt.dt.dayofweek  # 0=Mon … 6=Sun\n",
    "    \n",
    "    # 3) Cyclical encodings\n",
    "    sample['day_sin']   = np.sin(2 * np.pi * sample['Day_of_Month'] / 31)\n",
    "    sample['day_cos']   = np.cos(2 * np.pi * sample['Day_of_Month'] / 31)\n",
    "    sample['month_sin'] = np.sin(2 * np.pi * (sample['Month'] - 1) / 12)\n",
    "    sample['month_cos'] = np.cos(2 * np.pi * (sample['Month'] - 1) / 12)\n",
    "    sample['dow_sin']   = np.sin(2 * np.pi * sample['Day_of_Week'] / 7)\n",
    "    sample['dow_cos']   = np.cos(2 * np.pi * sample['Day_of_Week'] / 7)\n",
    "    \n",
    "    # 4) Categorical encodings\n",
    "    try:\n",
    "        sample['Destination Airport_encoded'] = label_encoders['Destination Airport']\\\n",
    "            .transform([dest_airport])[0]\n",
    "        sample['Airline_encoded'] = label_encoders['Airline']\\\n",
    "            .transform([airline])[0]\n",
    "    except KeyError as e:\n",
    "        return f\"Error: Missing encoder for {e}\"\n",
    "    except ValueError as e:\n",
    "        return f\"Error: Unknown category - {e}\"\n",
    "    \n",
    "    # 5) Lookup route statistics\n",
    "    #    We assume route_stats index on ['Airline','Destination Airport']\n",
    "    key = (airline, dest_airport)\n",
    "    try:\n",
    "        stats = route_stats.set_index(['Airline','Destination Airport'])\\\n",
    "                          .loc[key, ['route_mean','route_median','route_std']]\n",
    "        sample['route_mean']   = stats['route_mean']\n",
    "        sample['route_median'] = stats['route_median']\n",
    "        sample['route_std']    = stats['route_std']\n",
    "    except KeyError:\n",
    "        # fallback if this route never seen in training\n",
    "        sample['route_mean']   = route_stats['route_mean'].mean()\n",
    "        sample['route_median'] = route_stats['route_median'].median()\n",
    "        sample['route_std']    = route_stats['route_std'].mean()\n",
    "    \n",
    "    # 6) Select features and predict\n",
    "    try:\n",
    "        X_sample = sample[feature_columns]\n",
    "        pred = model.predict(X_sample)[0]\n",
    "        return int(round(pred))\n",
    "    except Exception as e:\n",
    "        return f\"Error during prediction: {e}\"\n"
   ]
  },
  {
   "cell_type": "code",
   "execution_count": null,
   "id": "ac09cbec-8f6b-4781-b8bd-7dd421f22d6f",
   "metadata": {},
   "outputs": [],
   "source": [
    "# Example usage\n",
    "example_prediction = predict_passengers(\n",
    "    best_rf,\n",
    "    flight_time=\"2025-07-22 14:38:00\",\n",
    "    dest_airport=\"DFW\",\n",
    "    airline=\"AA\",\n",
    "    label_encoders=label_encoders,\n",
    "    route_stats=route_stats,\n",
    "    feature_columns=feature_columns\n",
    ")\n",
    "    \n",
    "print(f\"Predicted passenger count: {example_prediction}\")"
   ]
  },
  {
   "cell_type": "code",
   "execution_count": null,
   "id": "20151d85-62fc-4a48-ad61-e4f4114208fa",
   "metadata": {},
   "outputs": [],
   "source": [
    "# Calculate evaluation metrics\n",
    "mse = mean_squared_error(y_test, y_pred)\n",
    "rmse = np.sqrt(mse)\n",
    "mae = mean_absolute_error(y_test, y_pred)\n",
    "r2 = r2_score(y_test, y_pred)\n",
    "\n",
    "print(\"Model Performance on Test Set:\")\n",
    "print(f\"Mean Squared Error: {mse:.4f}\")\n",
    "print(f\"Root Mean Squared Error: {rmse:.4f}\")\n",
    "print(f\"Mean Absolute Error: {mae:.4f}\")\n",
    "print(f\"R-squared Score: {r2:.4f}\")\n",
    "#print(f\"Out-of-Bag Score: {best_rf.oob_score_:.4f}\")\n",
    "\n",
    "# Context for interpretation\n",
    "print(f\"\\nFor context:\")\n",
    "print(f\"Average passenger count: {y_test.mean():.1f}\")\n",
    "print(f\"Typical prediction error: ±{rmse:.1f} passengers\")"
   ]
  },
  {
   "cell_type": "code",
   "execution_count": null,
   "id": "fba3f9d9-ccaa-4048-a0a7-7120889b7056",
   "metadata": {},
   "outputs": [],
   "source": [
    "# Plot actual vs predicted\n",
    "plt.figure(figsize=(12, 5))\n",
    "\n",
    "# Line plot\n",
    "plt.subplot(1, 2, 1)\n",
    "plt.plot(y_test.values[:100], label='Actual', marker='o', markersize=4)\n",
    "plt.plot(y_pred[:100], label='Predicted', marker='s', markersize=4)\n",
    "plt.title('Actual vs Predicted (First 100 samples)')\n",
    "plt.xlabel('Sample Index')\n",
    "plt.ylabel('Passenger Count')\n",
    "plt.legend()\n",
    "plt.grid(True, alpha=0.3)\n",
    "\n",
    "# Scatter plot\n",
    "plt.subplot(1, 2, 2)\n",
    "plt.scatter(y_test, y_pred, alpha=0.6)\n",
    "plt.plot([y_test.min(), y_test.max()], [y_test.min(), y_test.max()], 'r--', lw=2)\n",
    "plt.xlabel('Actual Passenger Count')\n",
    "plt.ylabel('Predicted Passenger Count')\n",
    "plt.title('Actual vs Predicted (Scatter)')\n",
    "plt.grid(True, alpha=0.3)\n",
    "\n",
    "plt.tight_layout()\n",
    "plt.show()"
   ]
  },
  {
   "cell_type": "code",
   "execution_count": null,
   "id": "63b55034-e1a4-44b6-aa98-0164659de0c6",
   "metadata": {},
   "outputs": [],
   "source": [
    "# Get feature importance\n",
    "feature_importance = pd.DataFrame({\n",
    "    'feature': feature_columns,\n",
    "    'importance': best_rf.feature_importances_\n",
    "}).sort_values('importance', ascending=False)\n",
    "\n",
    "print(\"Feature Importance:\")\n",
    "print(feature_importance)\n",
    "\n",
    "# Plot feature importance\n",
    "plt.figure(figsize=(10, 6))\n",
    "plt.barh(feature_importance['feature'], feature_importance['importance'])\n",
    "plt.xlabel('Importance')\n",
    "plt.title('Feature Importance in Random Forest Model')\n",
    "plt.gca().invert_yaxis()\n",
    "plt.tight_layout()\n",
    "plt.show()"
   ]
  },
  {
   "cell_type": "code",
   "execution_count": null,
   "id": "4eb749b6-3e81-4a46-a8b4-c43d178e5331",
   "metadata": {},
   "outputs": [],
   "source": []
  }
 ],
 "metadata": {
  "kernelspec": {
   "display_name": "Python 3 (ipykernel)",
   "language": "python",
   "name": "python3"
  },
  "language_info": {
   "codemirror_mode": {
    "name": "ipython",
    "version": 3
   },
   "file_extension": ".py",
   "mimetype": "text/x-python",
   "name": "python",
   "nbconvert_exporter": "python",
   "pygments_lexer": "ipython3",
   "version": "3.12.7"
  }
 },
 "nbformat": 4,
 "nbformat_minor": 5
}
